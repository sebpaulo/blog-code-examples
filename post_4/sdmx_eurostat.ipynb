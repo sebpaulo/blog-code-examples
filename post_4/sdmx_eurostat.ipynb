{
 "cells": [
  {
   "cell_type": "markdown",
   "metadata": {},
   "source": [
    "#"
   ]
  },
  {
   "cell_type": "markdown",
   "metadata": {},
   "source": [
    "# Working with data from official providers: a brief tour of pandaSDMX\n",
    "\n",
    "This notebook contains the code used in the related blog post. See the blog post for more detailed explanations.\n",
    "\n",
    "This example shows how to obtain data from Eurostat via SDMX. The example uses data on the share of individuals using the Internet for online banking in some European countries."
   ]
  },
  {
   "cell_type": "code",
   "execution_count": 1,
   "metadata": {},
   "outputs": [
    {
     "name": "stderr",
     "output_type": "stream",
     "text": [
      "/Users/sebastianpaulo/anaconda3/envs/statenv/lib/python3.11/site-packages/pandasdmx/remote.py:11: RuntimeWarning: optional dependency requests_cache is not installed; cache options to Session() have no effect\n",
      "  warn(\n"
     ]
    }
   ],
   "source": [
    "import pandasdmx as sdmx\n",
    "import matplotlib.pyplot as plt"
   ]
  },
  {
   "cell_type": "markdown",
   "metadata": {},
   "source": [
    "## Select data source\n",
    "\n",
    "The string ID for Eurostat is \"ESTAT\"."
   ]
  },
  {
   "cell_type": "code",
   "execution_count": 2,
   "metadata": {},
   "outputs": [],
   "source": [
    "estat = sdmx.Request('ESTAT')"
   ]
  },
  {
   "cell_type": "markdown",
   "metadata": {},
   "source": [
    "You can open Eurostat's API documentation in the browser with the following line."
   ]
  },
  {
   "cell_type": "code",
   "execution_count": 260,
   "metadata": {},
   "outputs": [],
   "source": [
    "estat.view_doc()"
   ]
  },
  {
   "cell_type": "markdown",
   "metadata": {},
   "source": [
    "## Data flows"
   ]
  },
  {
   "cell_type": "markdown",
   "metadata": {},
   "source": [
    "We get all dataflows from the estat client."
   ]
  },
  {
   "cell_type": "code",
   "execution_count": 3,
   "metadata": {},
   "outputs": [],
   "source": [
    "flow_msg = estat.dataflow()"
   ]
  },
  {
   "cell_type": "markdown",
   "metadata": {},
   "source": [
    "This gives us a StructureMessage (in contrast to DataMessage we will see later)."
   ]
  },
  {
   "cell_type": "code",
   "execution_count": 4,
   "metadata": {},
   "outputs": [
    {
     "data": {
      "text/plain": [
       "<pandasdmx.StructureMessage>\n",
       "  <Header>\n",
       "    id: 'DF1702540269'\n",
       "    prepared: '2023-12-14T08:51:09.382000+01:00'\n",
       "    sender: <Agency ESTAT>\n",
       "    source: \n",
       "    test: False\n",
       "  response: <Response [200]>\n",
       "  DataflowDefinition (7576): MAR_GO_QM_UK MAR_MG_AA_CWH MAR_MG_AA_CWHD ...\n",
       "  DataStructureDefinition (7147): MAR_GO_QM_UK MAR_MG_AA_CWH MAR_MG_AA_..."
      ]
     },
     "execution_count": 4,
     "metadata": {},
     "output_type": "execute_result"
    }
   ],
   "source": [
    "flow_msg"
   ]
  },
  {
   "cell_type": "code",
   "execution_count": 5,
   "metadata": {},
   "outputs": [
    {
     "data": {
      "text/plain": [
       "<DataflowDefinition ESTAT:MAR_PA_QM_PT(1.0): Passengers (excluding cruise passengers) transported from/to the main ports - Portugal - quarterly data>"
      ]
     },
     "execution_count": 5,
     "metadata": {},
     "output_type": "execute_result"
    }
   ],
   "source": [
    "# picking a dataflow from the IDs we already see in the StructureMessage\n",
    "flow_msg.dataflow.MAR_PA_QM_PT"
   ]
  },
  {
   "cell_type": "code",
   "execution_count": 6,
   "metadata": {},
   "outputs": [
    {
     "data": {
      "text/plain": [
       "'https://ec.europa.eu/eurostat/api/dissemination/sdmx/2.1/dataflow/ESTAT'"
      ]
     },
     "execution_count": 6,
     "metadata": {},
     "output_type": "execute_result"
    }
   ],
   "source": [
    "flow_msg.response.url"
   ]
  },
  {
   "cell_type": "code",
   "execution_count": 7,
   "metadata": {},
   "outputs": [
    {
     "data": {
      "text/plain": [
       "{'Date': 'Thu, 14 Dec 2023 09:11:23 GMT', 'Transfer-Encoding': 'chunked', 'Content-Type': 'application/vnd.sdmx.structure+xml;version=2.1', 'Content-Disposition': 'attachment; filename=\"ALL_DATAFLOWS.xml\"', 'Server-Timing': 'dtRpid;desc=\"996881762\", dtSInfo;desc=\"0\"', 'X-OneAgent-JS-Injection': 'true', 'Connection': 'keep-alive', 'Set-Cookie': 'dtCookie=v_4_srv_34_sn_FFF2574303580672C1834FAE65243FFA_perc_100000_ol_0_mul_1_app-3Ae63eebabdf39f376_1; Path=/; Domain=.europa.eu/eurostat/api/dissemination'}"
      ]
     },
     "execution_count": 7,
     "metadata": {},
     "output_type": "execute_result"
    }
   ],
   "source": [
    "flow_msg.response.headers"
   ]
  },
  {
   "cell_type": "markdown",
   "metadata": {},
   "source": [
    "## Find a dataflow"
   ]
  },
  {
   "cell_type": "code",
   "execution_count": 8,
   "metadata": {},
   "outputs": [
    {
     "data": {
      "text/plain": [
       "7576"
      ]
     },
     "execution_count": 8,
     "metadata": {},
     "output_type": "execute_result"
    }
   ],
   "source": [
    "# more than 7000 dataflows available\n",
    "len(flow_msg.dataflow)"
   ]
  },
  {
   "cell_type": "markdown",
   "metadata": {},
   "source": [
    "We can convert metadata into a pandas object for easier inspection."
   ]
  },
  {
   "cell_type": "code",
   "execution_count": 9,
   "metadata": {},
   "outputs": [],
   "source": [
    "dataflows = sdmx.to_pandas(flow_msg.dataflow)"
   ]
  },
  {
   "cell_type": "code",
   "execution_count": 10,
   "metadata": {},
   "outputs": [
    {
     "data": {
      "text/plain": [
       "pandas.core.series.Series"
      ]
     },
     "execution_count": 10,
     "metadata": {},
     "output_type": "execute_result"
    }
   ],
   "source": [
    "type(dataflows)"
   ]
  },
  {
   "cell_type": "code",
   "execution_count": 11,
   "metadata": {},
   "outputs": [
    {
     "data": {
      "text/plain": [
       "MAR_GO_QM_UK      Gross weight of goods transported to/from main...\n",
       "MAR_MG_AA_CWH     Country level - gross weight of goods handled ...\n",
       "MAR_MG_AA_CWHD    Country level - gross weight of goods handled ...\n",
       "MAR_MG_AA_PWHD    Gross weight of goods handled in the top 20 EU...\n",
       "MAR_MG_AM_CVH     Country level - volume (in TEUs) of containers...\n",
       "dtype: object"
      ]
     },
     "execution_count": 11,
     "metadata": {},
     "output_type": "execute_result"
    }
   ],
   "source": [
    "dataflows.head()"
   ]
  },
  {
   "cell_type": "markdown",
   "metadata": {},
   "source": [
    "Now, we narrow it down to just the dataflows that we are interested in using a pandas str method."
   ]
  },
  {
   "cell_type": "code",
   "execution_count": 58,
   "metadata": {},
   "outputs": [],
   "source": [
    "internet_use_flows = dataflows[dataflows.str.contains('Individuals using the internet', case=False)]"
   ]
  },
  {
   "cell_type": "markdown",
   "metadata": {},
   "source": [
    "We narrow it down to ten dataflows."
   ]
  },
  {
   "cell_type": "code",
   "execution_count": 59,
   "metadata": {},
   "outputs": [
    {
     "data": {
      "text/plain": [
       "TIN00094    Individuals using the internet for sending/rec...\n",
       "TIN00095    Individuals using the internet for finding inf...\n",
       "TIN00096    Individuals using the internet for buying good...\n",
       "TIN00098    Individuals using the internet for selling goo...\n",
       "TIN00099    Individuals using the internet for internet ba...\n",
       "TIN00101    Individuals using the internet for seeking hea...\n",
       "TIN00102    Individuals using the internet for looking for...\n",
       "TIN00103    Individuals using the internet for doing an on...\n",
       "TIN00127    Individuals using the internet for participati...\n",
       "TIN00129    Individuals using the internet for taking part...\n",
       "dtype: object"
      ]
     },
     "execution_count": 59,
     "metadata": {},
     "output_type": "execute_result"
    }
   ],
   "source": [
    "internet_use_flows"
   ]
  },
  {
   "cell_type": "markdown",
   "metadata": {},
   "source": [
    "We pick the one about 'Individuals using the internet for internet banking'."
   ]
  },
  {
   "cell_type": "code",
   "execution_count": 14,
   "metadata": {},
   "outputs": [
    {
     "data": {
      "text/plain": [
       "'Individuals using the internet for internet banking'"
      ]
     },
     "execution_count": 14,
     "metadata": {},
     "output_type": "execute_result"
    }
   ],
   "source": [
    "internet_use_flows.TIN00099"
   ]
  },
  {
   "cell_type": "markdown",
   "metadata": {},
   "source": [
    "## Invesigate the structure of a dataflow"
   ]
  },
  {
   "cell_type": "markdown",
   "metadata": {},
   "source": [
    "We get this specific dataflow based on the ID we found."
   ]
  },
  {
   "cell_type": "code",
   "execution_count": 15,
   "metadata": {},
   "outputs": [],
   "source": [
    "tin_msg = estat.dataflow(\"TIN00099\")"
   ]
  },
  {
   "cell_type": "markdown",
   "metadata": {},
   "source": [
    "Again a StructureMessage."
   ]
  },
  {
   "cell_type": "code",
   "execution_count": 16,
   "metadata": {},
   "outputs": [
    {
     "data": {
      "text/plain": [
       "<pandasdmx.StructureMessage>\n",
       "  <Header>\n",
       "    id: 'DF1702041294'\n",
       "    prepared: '2023-12-08T13:14:54.798000+00:00'\n",
       "    sender: <Agency ESTAT>\n",
       "    source: \n",
       "    test: False\n",
       "  response: <Response [200]>\n",
       "  Codelist (6): FREQ INDIC_IS UNIT IND_TYPE GEO OBS_FLAG\n",
       "  ConceptScheme (1): TIN00099\n",
       "  DataflowDefinition (1): TIN00099\n",
       "  DataStructureDefinition (1): TIN00099"
      ]
     },
     "execution_count": 16,
     "metadata": {},
     "output_type": "execute_result"
    }
   ],
   "source": [
    "tin_msg"
   ]
  },
  {
   "cell_type": "markdown",
   "metadata": {},
   "source": [
    "We get the dataflow from the message."
   ]
  },
  {
   "cell_type": "code",
   "execution_count": 17,
   "metadata": {},
   "outputs": [],
   "source": [
    "tin_flow = tin_msg.dataflow.TIN00099"
   ]
  },
  {
   "cell_type": "code",
   "execution_count": 18,
   "metadata": {},
   "outputs": [
    {
     "data": {
      "text/plain": [
       "<DataflowDefinition ESTAT:TIN00099(1.0): Individuals using the internet for internet banking>"
      ]
     },
     "execution_count": 18,
     "metadata": {},
     "output_type": "execute_result"
    }
   ],
   "source": [
    "tin_flow"
   ]
  },
  {
   "cell_type": "markdown",
   "metadata": {},
   "source": [
    "We get the data structure definition."
   ]
  },
  {
   "cell_type": "code",
   "execution_count": 19,
   "metadata": {},
   "outputs": [],
   "source": [
    "dsd = tin_flow.structure"
   ]
  },
  {
   "cell_type": "code",
   "execution_count": 20,
   "metadata": {},
   "outputs": [
    {
     "data": {
      "text/plain": [
       "<DataStructureDefinition ESTAT:TIN00099(34.1): TIN00099 data structure>"
      ]
     },
     "execution_count": 20,
     "metadata": {},
     "output_type": "execute_result"
    }
   ],
   "source": [
    "dsd"
   ]
  },
  {
   "cell_type": "markdown",
   "metadata": {},
   "source": [
    "The DSD has dimensions, attributes and measures."
   ]
  },
  {
   "cell_type": "markdown",
   "metadata": {},
   "source": [
    "1. Dimensions"
   ]
  },
  {
   "cell_type": "code",
   "execution_count": 21,
   "metadata": {},
   "outputs": [
    {
     "data": {
      "text/plain": [
       "[<Dimension freq>,\n",
       " <Dimension indic_is>,\n",
       " <Dimension unit>,\n",
       " <Dimension ind_type>,\n",
       " <Dimension geo>,\n",
       " <TimeDimension TIME_PERIOD>]"
      ]
     },
     "execution_count": 21,
     "metadata": {},
     "output_type": "execute_result"
    }
   ],
   "source": [
    "dsd.dimensions.components"
   ]
  },
  {
   "cell_type": "markdown",
   "metadata": {},
   "source": [
    "2. Attributes"
   ]
  },
  {
   "cell_type": "code",
   "execution_count": 22,
   "metadata": {},
   "outputs": [
    {
     "data": {
      "text/plain": [
       "[<DataAttribute OBS_FLAG>]"
      ]
     },
     "execution_count": 22,
     "metadata": {},
     "output_type": "execute_result"
    }
   ],
   "source": [
    "# one type of attribute: OBS_FLAG\n",
    "dsd.attributes.components"
   ]
  },
  {
   "cell_type": "code",
   "execution_count": 23,
   "metadata": {},
   "outputs": [
    {
     "data": {
      "text/plain": [
       "{'b': <Code b: break in time series>,\n",
       " 'bc': <Code bc: break in time series, confidential>,\n",
       " 'bcd': <Code bcd: break in time series, confidential, definition differs (see metadata)>,\n",
       " 'bd': <Code bd: break in time series, definition differs (see metadata)>,\n",
       " 'bde': <Code bde: break in time series, definition differs (see metadata), estimated>,\n",
       " 'bdep': <Code bdep: break in time series, definition differs (see metadata), estimated, provisional>,\n",
       " 'bdf': <Code bdf: break in time series, definition differs (see metadata), forecast>,\n",
       " 'bdn': <Code bdn: break in time series, definition differs (see metadata), not significant>,\n",
       " 'bdp': <Code bdp: break in time series, definition differs (see metadata), provisional>,\n",
       " 'bdps': <Code bdps: break in time series, definition differs (see metadata), provisional, Eurostat estimate>,\n",
       " 'bds': <Code bds: break in time series, definition differs (see metadata), Eurostat estimate>,\n",
       " 'bdu': <Code bdu: break in time series, definition differs (see metadata), low reliability>,\n",
       " 'bdz': <Code bdz: break in time series, definition differs (see metadata), not applicable>,\n",
       " 'be': <Code be: break in time series, estimated>,\n",
       " 'bep': <Code bep: break in time series, estimated, provisional>,\n",
       " 'bf': <Code bf: break in time series, forecast>,\n",
       " 'bn': <Code bn: break in time series, not significant>,\n",
       " 'bp': <Code bp: break in time series, provisional>,\n",
       " 'bps': <Code bps: break in time series, provisional, Eurostat estimate>,\n",
       " 'bpu': <Code bpu: break in time series, provisional, low reliability>,\n",
       " 'bs': <Code bs: break in time series, Eurostat estimate>,\n",
       " 'bu': <Code bu: break in time series, low reliability>,\n",
       " 'bz': <Code bz: break in time series, not applicable>,\n",
       " 'c': <Code c: confidential>,\n",
       " 'cd': <Code cd: confidential, definition differs (see metadata)>,\n",
       " 'd': <Code d: definition differs (see metadata)>,\n",
       " 'de': <Code de: definition differs (see metadata), estimated>,\n",
       " 'dep': <Code dep: definition differs (see metadata), estimated, provisional>,\n",
       " 'df': <Code df: definition differs (see metadata), forecast>,\n",
       " 'dn': <Code dn: definition differs (see metadata), not significant>,\n",
       " 'dp': <Code dp: definition differs (see metadata), provisional>,\n",
       " 'dps': <Code dps: definition differs (see metadata), provisional, Eurostat estimate>,\n",
       " 'dpu': <Code dpu: definition differs (see metadata), provisional, low reliability>,\n",
       " 'ds': <Code ds: definition differs (see metadata), Eurostat estimate>,\n",
       " 'du': <Code du: definition differs (see metadata), low reliability>,\n",
       " 'dz': <Code dz: definition differs (see metadata), not applicable>,\n",
       " 'e': <Code e: estimated>,\n",
       " 'ep': <Code ep: estimated, provisional>,\n",
       " 'f': <Code f: forecast>,\n",
       " 'n': <Code n: not significant>,\n",
       " 'p': <Code p: provisional>,\n",
       " 'ps': <Code ps: provisional, Eurostat estimate>,\n",
       " 'pu': <Code pu: provisional, low reliability>,\n",
       " 's': <Code s: Eurostat estimate>,\n",
       " 'u': <Code u: low reliability>,\n",
       " 'z': <Code z: not applicable>}"
      ]
     },
     "execution_count": 23,
     "metadata": {},
     "output_type": "execute_result"
    }
   ],
   "source": [
    "dsd.attributes.components[0].local_representation.enumerated.items"
   ]
  },
  {
   "cell_type": "markdown",
   "metadata": {},
   "source": [
    "3. Measures"
   ]
  },
  {
   "cell_type": "code",
   "execution_count": 24,
   "metadata": {},
   "outputs": [
    {
     "data": {
      "text/plain": [
       "[<PrimaryMeasure OBS_VALUE>]"
      ]
     },
     "execution_count": 24,
     "metadata": {},
     "output_type": "execute_result"
    }
   ],
   "source": [
    "dsd.measures.components"
   ]
  },
  {
   "cell_type": "markdown",
   "metadata": {},
   "source": [
    "### Codelists"
   ]
  },
  {
   "cell_type": "code",
   "execution_count": 25,
   "metadata": {},
   "outputs": [],
   "source": [
    "cl_freq = dsd.dimensions.get('freq').local_representation.enumerated"
   ]
  },
  {
   "cell_type": "code",
   "execution_count": 26,
   "metadata": {},
   "outputs": [
    {
     "data": {
      "text/plain": [
       "<Codelist ESTAT:FREQ(3.2) (11 items): Time frequency>"
      ]
     },
     "execution_count": 26,
     "metadata": {},
     "output_type": "execute_result"
    }
   ],
   "source": [
    "cl_freq"
   ]
  },
  {
   "cell_type": "code",
   "execution_count": 27,
   "metadata": {},
   "outputs": [],
   "source": [
    "cl_freq_pd = sdmx.to_pandas(cl_freq)"
   ]
  },
  {
   "cell_type": "code",
   "execution_count": 28,
   "metadata": {},
   "outputs": [
    {
     "name": "stdout",
     "output_type": "stream",
     "text": [
      "                         name parent\n",
      "FREQ                                \n",
      "P                Pluri-annual   FREQ\n",
      "A                      Annual   FREQ\n",
      "S     Half-yearly, semesterly   FREQ\n",
      "Q                   Quarterly   FREQ\n",
      "M                     Monthly   FREQ\n",
      "W                      Weekly   FREQ\n",
      "B       Daily - business week   FREQ\n",
      "D                       Daily   FREQ\n",
      "H                      Hourly   FREQ\n",
      "I      Irregular / A-periodic   FREQ\n",
      "NAP            Not applicable   FREQ\n"
     ]
    }
   ],
   "source": [
    "print(cl_freq_pd)"
   ]
  },
  {
   "cell_type": "code",
   "execution_count": 33,
   "metadata": {},
   "outputs": [
    {
     "data": {
      "text/html": [
       "<div>\n",
       "<style scoped>\n",
       "    .dataframe tbody tr th:only-of-type {\n",
       "        vertical-align: middle;\n",
       "    }\n",
       "\n",
       "    .dataframe tbody tr th {\n",
       "        vertical-align: top;\n",
       "    }\n",
       "\n",
       "    .dataframe thead th {\n",
       "        text-align: right;\n",
       "    }\n",
       "</style>\n",
       "<table border=\"1\" class=\"dataframe\">\n",
       "  <thead>\n",
       "    <tr style=\"text-align: right;\">\n",
       "      <th></th>\n",
       "      <th>name</th>\n",
       "      <th>parent</th>\n",
       "    </tr>\n",
       "    <tr>\n",
       "      <th>IND_TYPE</th>\n",
       "      <th></th>\n",
       "      <th></th>\n",
       "    </tr>\n",
       "  </thead>\n",
       "  <tbody>\n",
       "    <tr>\n",
       "      <th>TOTAL</th>\n",
       "      <td>Total</td>\n",
       "      <td>IND_TYPE</td>\n",
       "    </tr>\n",
       "    <tr>\n",
       "      <th>IND_TOTAL</th>\n",
       "      <td>All Individuals</td>\n",
       "      <td>IND_TYPE</td>\n",
       "    </tr>\n",
       "    <tr>\n",
       "      <th>Y0_15</th>\n",
       "      <td>Individuals, 15 years old or less</td>\n",
       "      <td>IND_TYPE</td>\n",
       "    </tr>\n",
       "    <tr>\n",
       "      <th>Y15_29</th>\n",
       "      <td>Individuals, 15 to 29 years old</td>\n",
       "      <td>IND_TYPE</td>\n",
       "    </tr>\n",
       "    <tr>\n",
       "      <th>Y16_19</th>\n",
       "      <td>Individuals, 16 to 19 years old</td>\n",
       "      <td>IND_TYPE</td>\n",
       "    </tr>\n",
       "    <tr>\n",
       "      <th>...</th>\n",
       "      <td>...</td>\n",
       "      <td>...</td>\n",
       "    </tr>\n",
       "    <tr>\n",
       "      <th>Y55_74_DIS_NONE</th>\n",
       "      <td>Individuals aged 55 to 74 with disability (act...</td>\n",
       "      <td>IND_TYPE</td>\n",
       "    </tr>\n",
       "    <tr>\n",
       "      <th>SPHS_LTD</th>\n",
       "      <td>Self-perceived health status: limited, but not...</td>\n",
       "      <td>IND_TYPE</td>\n",
       "    </tr>\n",
       "    <tr>\n",
       "      <th>SPHS_LTD_SEV</th>\n",
       "      <td>Self-perceived health status: limited or sever...</td>\n",
       "      <td>IND_TYPE</td>\n",
       "    </tr>\n",
       "    <tr>\n",
       "      <th>SPHS_SEV</th>\n",
       "      <td>Self-perceived health status: severely limited</td>\n",
       "      <td>IND_TYPE</td>\n",
       "    </tr>\n",
       "    <tr>\n",
       "      <th>SPHS_NONE</th>\n",
       "      <td>Self-perceived health status: not limited at all</td>\n",
       "      <td>IND_TYPE</td>\n",
       "    </tr>\n",
       "  </tbody>\n",
       "</table>\n",
       "<p>186 rows × 2 columns</p>\n",
       "</div>"
      ],
      "text/plain": [
       "                                                              name    parent\n",
       "IND_TYPE                                                                    \n",
       "TOTAL                                                        Total  IND_TYPE\n",
       "IND_TOTAL                                          All Individuals  IND_TYPE\n",
       "Y0_15                            Individuals, 15 years old or less  IND_TYPE\n",
       "Y15_29                             Individuals, 15 to 29 years old  IND_TYPE\n",
       "Y16_19                             Individuals, 16 to 19 years old  IND_TYPE\n",
       "...                                                            ...       ...\n",
       "Y55_74_DIS_NONE  Individuals aged 55 to 74 with disability (act...  IND_TYPE\n",
       "SPHS_LTD         Self-perceived health status: limited, but not...  IND_TYPE\n",
       "SPHS_LTD_SEV     Self-perceived health status: limited or sever...  IND_TYPE\n",
       "SPHS_SEV            Self-perceived health status: severely limited  IND_TYPE\n",
       "SPHS_NONE         Self-perceived health status: not limited at all  IND_TYPE\n",
       "\n",
       "[186 rows x 2 columns]"
      ]
     },
     "execution_count": 33,
     "metadata": {},
     "output_type": "execute_result"
    }
   ],
   "source": [
    "cl_ind = dsd.dimensions.get('ind_type').local_representation.enumerated\n",
    "cl_ind_df = sdmx.to_pandas(cl_ind)\n",
    "cl_ind_df"
   ]
  },
  {
   "cell_type": "code",
   "execution_count": 289,
   "metadata": {},
   "outputs": [
    {
     "name": "stdout",
     "output_type": "stream",
     "text": [
      "                                                             name parent\n",
      "GEO                                                                     \n",
      "EUR                                                        Europe    GEO\n",
      "EU              European Union (EU6-1958, EU9-1973, EU10-1981,...    GEO\n",
      "EU_V            European Union (aggregate changing according t...    GEO\n",
      "EU27_2020_EFTA  European Union - 27 countries (from 2020) and ...    GEO\n",
      "EU27_2020_IS_K  European Union - 27 countries (from 2020) and ...    GEO\n",
      "...                                                           ...    ...\n",
      "NAL                                                 Not allocated    GEO\n",
      "NAP                                                Not applicable    GEO\n",
      "NRP                                                   No response    GEO\n",
      "NSP                                                 Not specified    GEO\n",
      "UNK                                                       Unknown    GEO\n",
      "\n",
      "[4041 rows x 2 columns]\n"
     ]
    }
   ],
   "source": [
    "cl_geo = dsd.dimensions.get('geo').local_representation.enumerated\n",
    "cl_geo_pd = sdmx.to_pandas(cl_geo)\n",
    "print(cl_geo_pd)"
   ]
  },
  {
   "cell_type": "markdown",
   "metadata": {},
   "source": [
    "Another way to access codelists."
   ]
  },
  {
   "cell_type": "code",
   "execution_count": 290,
   "metadata": {},
   "outputs": [
    {
     "data": {
      "text/plain": [
       "{'FREQ': <Codelist ESTAT:FREQ(3.2) (11 items): Time frequency>,\n",
       " 'INDIC_IS': <Codelist ESTAT:INDIC_IS(13.1) (2123 items): Information society indicator>,\n",
       " 'UNIT': <Codelist ESTAT:UNIT(21.1) (709 items): Unit of measure>,\n",
       " 'IND_TYPE': <Codelist ESTAT:IND_TYPE(5.1) (186 items): Individual type>,\n",
       " 'GEO': <Codelist ESTAT:GEO(14.4) (4041 items): Geopolitical entity (reporting)>,\n",
       " 'OBS_FLAG': <Codelist ESTAT:OBS_FLAG(1.33) (46 items): Observation status (Flag)>}"
      ]
     },
     "execution_count": 290,
     "metadata": {},
     "output_type": "execute_result"
    }
   ],
   "source": [
    "tin_msg.codelist"
   ]
  },
  {
   "cell_type": "markdown",
   "metadata": {},
   "source": [
    "Another way to access only the data structure."
   ]
  },
  {
   "cell_type": "code",
   "execution_count": 291,
   "metadata": {},
   "outputs": [],
   "source": [
    "metadata = estat.datastructure('TIN00099')"
   ]
  },
  {
   "cell_type": "code",
   "execution_count": 292,
   "metadata": {},
   "outputs": [
    {
     "data": {
      "text/plain": [
       "<pandasdmx.StructureMessage>\n",
       "  <Header>\n",
       "    id: 'DSD1702041361'\n",
       "    prepared: '2023-12-08T13:16:01.698000+00:00'\n",
       "    sender: <Agency ESTAT>\n",
       "    source: \n",
       "    test: False\n",
       "  response: <Response [200]>\n",
       "  Codelist (6): FREQ INDIC_IS UNIT IND_TYPE GEO OBS_FLAG\n",
       "  ConceptScheme (1): TIN00099\n",
       "  DataStructureDefinition (1): TIN00099"
      ]
     },
     "execution_count": 292,
     "metadata": {},
     "output_type": "execute_result"
    }
   ],
   "source": [
    "metadata"
   ]
  },
  {
   "cell_type": "code",
   "execution_count": 293,
   "metadata": {},
   "outputs": [
    {
     "data": {
      "text/plain": [
       "{'FREQ': <Codelist ESTAT:FREQ(3.2) (11 items): Time frequency>,\n",
       " 'INDIC_IS': <Codelist ESTAT:INDIC_IS(13.1) (2123 items): Information society indicator>,\n",
       " 'UNIT': <Codelist ESTAT:UNIT(21.1) (709 items): Unit of measure>,\n",
       " 'IND_TYPE': <Codelist ESTAT:IND_TYPE(5.1) (186 items): Individual type>,\n",
       " 'GEO': <Codelist ESTAT:GEO(14.4) (4041 items): Geopolitical entity (reporting)>,\n",
       " 'OBS_FLAG': <Codelist ESTAT:OBS_FLAG(1.33) (46 items): Observation status (Flag)>}"
      ]
     },
     "execution_count": 293,
     "metadata": {},
     "output_type": "execute_result"
    }
   ],
   "source": [
    "metadata.codelist"
   ]
  },
  {
   "cell_type": "markdown",
   "metadata": {},
   "source": [
    "## Query the data"
   ]
  },
  {
   "cell_type": "markdown",
   "metadata": {},
   "source": [
    "From above analysis of the structure, we can decide how to filter a subset of the data."
   ]
  },
  {
   "cell_type": "code",
   "execution_count": 34,
   "metadata": {},
   "outputs": [],
   "source": [
    "key = dict(\n",
    "        freq=\"A\", indic_is=\"I_IUBK\", unit=\"PC_IND\",\n",
    "        geo=\"DE+FR+EE+PL+RO\"\n",
    "    )\n",
    "params = dict(startPeriod='2011', endPeriod='2022')"
   ]
  },
  {
   "cell_type": "code",
   "execution_count": 36,
   "metadata": {},
   "outputs": [
    {
     "name": "stderr",
     "output_type": "stream",
     "text": [
      "2023-12-14 11:36:35,128 pandasdmx.reader.sdmxml - INFO: Use supplied dsd=… argument for non–structure-specific message\n"
     ]
    }
   ],
   "source": [
    "data_msg = estat.data('TIN00099', key=key, params=params)"
   ]
  },
  {
   "cell_type": "code",
   "execution_count": 37,
   "metadata": {},
   "outputs": [
    {
     "data": {
      "text/plain": [
       "'application/vnd.sdmx.genericdata+xml;version=2.1'"
      ]
     },
     "execution_count": 37,
     "metadata": {},
     "output_type": "execute_result"
    }
   ],
   "source": [
    "data_msg.response.headers['content-type']"
   ]
  },
  {
   "cell_type": "code",
   "execution_count": 38,
   "metadata": {},
   "outputs": [
    {
     "data": {
      "text/plain": [
       "'https://ec.europa.eu/eurostat/api/dissemination/sdmx/2.1/data/TIN00099/A.I_IUBK.PC_IND..DE+EE+FR+PL+RO?startPeriod=2011&endPeriod=2022'"
      ]
     },
     "execution_count": 38,
     "metadata": {},
     "output_type": "execute_result"
    }
   ],
   "source": [
    "data_msg.response.url"
   ]
  },
  {
   "cell_type": "code",
   "execution_count": 39,
   "metadata": {},
   "outputs": [
    {
     "data": {
      "text/plain": [
       "<pandasdmx.DataMessage>\n",
       "  <Header>\n",
       "    extracted: '2023-12-13T10:15:14.435000+00:00'\n",
       "    id: '21212EEF50234E8BBDF01C8E1CF02DEC'\n",
       "    prepared: '2023-12-13T10:15:14.435000+00:00'\n",
       "    sender: <Agency ESTAT>\n",
       "    source: \n",
       "    test: False\n",
       "  response: <Response [200]>\n",
       "  DataSet (1)\n",
       "  dataflow: <DataflowDefinition (missing id)>\n",
       "  observation_dimension: <TimeDimension TIME_PERIOD>"
      ]
     },
     "execution_count": 39,
     "metadata": {},
     "output_type": "execute_result"
    }
   ],
   "source": [
    "data_msg"
   ]
  },
  {
   "cell_type": "markdown",
   "metadata": {},
   "source": [
    "We exctract a list of GenericDataSets from the message. In this case there is one data set in that list."
   ]
  },
  {
   "cell_type": "code",
   "execution_count": 40,
   "metadata": {},
   "outputs": [
    {
     "data": {
      "text/plain": [
       "[GenericDataSet(annotations=[], action=None, attrib={}, valid_from=None, described_by=None, structured_by=<DataStructureDefinition ESTAT:TIN00099(34.1): TIN00099 data structure>, obs=[Observation(attached_attribute={}, series_key=<SeriesKey: freq=A, indic_is=I_IUBK, unit=PC_IND, ind_type=IND_TOTAL, geo=DE>, dimension=<Key: TIME_PERIOD=2011>, value='45.25', value_for=None, group_keys=set()), Observation(attached_attribute={}, series_key=<SeriesKey: freq=A, indic_is=I_IUBK, unit=PC_IND, ind_type=IND_TOTAL, geo=DE>, dimension=<Key: TIME_PERIOD=2012>, value='45.07', value_for=None, group_keys=set()), Observation(attached_attribute={}, series_key=<SeriesKey: freq=A, indic_is=I_IUBK, unit=PC_IND, ind_type=IND_TOTAL, geo=DE>, dimension=<Key: TIME_PERIOD=2013>, value='47.12', value_for=None, group_keys=set()), Observation(attached_attribute={}, series_key=<SeriesKey: freq=A, indic_is=I_IUBK, unit=PC_IND, ind_type=IND_TOTAL, geo=DE>, dimension=<Key: TIME_PERIOD=2014>, value='48.76', value_for=None, group_keys=set()), Observation(attached_attribute={}, series_key=<SeriesKey: freq=A, indic_is=I_IUBK, unit=PC_IND, ind_type=IND_TOTAL, geo=DE>, dimension=<Key: TIME_PERIOD=2015>, value='50.98', value_for=None, group_keys=set()), Observation(attached_attribute={}, series_key=<SeriesKey: freq=A, indic_is=I_IUBK, unit=PC_IND, ind_type=IND_TOTAL, geo=DE>, dimension=<Key: TIME_PERIOD=2016>, value='52.97', value_for=None, group_keys=set()), Observation(attached_attribute={}, series_key=<SeriesKey: freq=A, indic_is=I_IUBK, unit=PC_IND, ind_type=IND_TOTAL, geo=DE>, dimension=<Key: TIME_PERIOD=2017>, value='55.56', value_for=None, group_keys=set()), Observation(attached_attribute={}, series_key=<SeriesKey: freq=A, indic_is=I_IUBK, unit=PC_IND, ind_type=IND_TOTAL, geo=DE>, dimension=<Key: TIME_PERIOD=2018>, value='58.84', value_for=None, group_keys=set()), Observation(attached_attribute={}, series_key=<SeriesKey: freq=A, indic_is=I_IUBK, unit=PC_IND, ind_type=IND_TOTAL, geo=DE>, dimension=<Key: TIME_PERIOD=2019>, value='61.10', value_for=None, group_keys=set()), Observation(attached_attribute={}, series_key=<SeriesKey: freq=A, indic_is=I_IUBK, unit=PC_IND, ind_type=IND_TOTAL, geo=DE>, dimension=<Key: TIME_PERIOD=2020>, value='64.91', value_for=None, group_keys=set()), Observation(attached_attribute={'OBS_FLAG': <AttributeValue: OBS_FLAG=b>}, series_key=<SeriesKey: freq=A, indic_is=I_IUBK, unit=PC_IND, ind_type=IND_TOTAL, geo=DE>, dimension=<Key: TIME_PERIOD=2021>, value='50.35', value_for=None, group_keys=set()), Observation(attached_attribute={}, series_key=<SeriesKey: freq=A, indic_is=I_IUBK, unit=PC_IND, ind_type=IND_TOTAL, geo=DE>, dimension=<Key: TIME_PERIOD=2022>, value='48.58', value_for=None, group_keys=set()), Observation(attached_attribute={}, series_key=<SeriesKey: freq=A, indic_is=I_IUBK, unit=PC_IND, ind_type=IND_TOTAL, geo=EE>, dimension=<Key: TIME_PERIOD=2011>, value='67.59', value_for=None, group_keys=set()), Observation(attached_attribute={}, series_key=<SeriesKey: freq=A, indic_is=I_IUBK, unit=PC_IND, ind_type=IND_TOTAL, geo=EE>, dimension=<Key: TIME_PERIOD=2012>, value='68.06', value_for=None, group_keys=set()), Observation(attached_attribute={}, series_key=<SeriesKey: freq=A, indic_is=I_IUBK, unit=PC_IND, ind_type=IND_TOTAL, geo=EE>, dimension=<Key: TIME_PERIOD=2013>, value='72.22', value_for=None, group_keys=set()), Observation(attached_attribute={'OBS_FLAG': <AttributeValue: OBS_FLAG=b>}, series_key=<SeriesKey: freq=A, indic_is=I_IUBK, unit=PC_IND, ind_type=IND_TOTAL, geo=EE>, dimension=<Key: TIME_PERIOD=2014>, value='76.56', value_for=None, group_keys=set()), Observation(attached_attribute={}, series_key=<SeriesKey: freq=A, indic_is=I_IUBK, unit=PC_IND, ind_type=IND_TOTAL, geo=EE>, dimension=<Key: TIME_PERIOD=2015>, value='80.67', value_for=None, group_keys=set()), Observation(attached_attribute={}, series_key=<SeriesKey: freq=A, indic_is=I_IUBK, unit=PC_IND, ind_type=IND_TOTAL, geo=EE>, dimension=<Key: TIME_PERIOD=2016>, value='78.59', value_for=None, group_keys=set()), Observation(attached_attribute={}, series_key=<SeriesKey: freq=A, indic_is=I_IUBK, unit=PC_IND, ind_type=IND_TOTAL, geo=EE>, dimension=<Key: TIME_PERIOD=2017>, value='79.23', value_for=None, group_keys=set()), Observation(attached_attribute={}, series_key=<SeriesKey: freq=A, indic_is=I_IUBK, unit=PC_IND, ind_type=IND_TOTAL, geo=EE>, dimension=<Key: TIME_PERIOD=2018>, value='80.36', value_for=None, group_keys=set()), Observation(attached_attribute={}, series_key=<SeriesKey: freq=A, indic_is=I_IUBK, unit=PC_IND, ind_type=IND_TOTAL, geo=EE>, dimension=<Key: TIME_PERIOD=2019>, value='80.72', value_for=None, group_keys=set()), Observation(attached_attribute={}, series_key=<SeriesKey: freq=A, indic_is=I_IUBK, unit=PC_IND, ind_type=IND_TOTAL, geo=EE>, dimension=<Key: TIME_PERIOD=2020>, value='79.84', value_for=None, group_keys=set()), Observation(attached_attribute={}, series_key=<SeriesKey: freq=A, indic_is=I_IUBK, unit=PC_IND, ind_type=IND_TOTAL, geo=EE>, dimension=<Key: TIME_PERIOD=2021>, value='81.51', value_for=None, group_keys=set()), Observation(attached_attribute={}, series_key=<SeriesKey: freq=A, indic_is=I_IUBK, unit=PC_IND, ind_type=IND_TOTAL, geo=EE>, dimension=<Key: TIME_PERIOD=2022>, value='83.36', value_for=None, group_keys=set()), Observation(attached_attribute={}, series_key=<SeriesKey: freq=A, indic_is=I_IUBK, unit=PC_IND, ind_type=IND_TOTAL, geo=FR>, dimension=<Key: TIME_PERIOD=2011>, value='50.90', value_for=None, group_keys=set()), Observation(attached_attribute={}, series_key=<SeriesKey: freq=A, indic_is=I_IUBK, unit=PC_IND, ind_type=IND_TOTAL, geo=FR>, dimension=<Key: TIME_PERIOD=2012>, value='54.04', value_for=None, group_keys=set()), Observation(attached_attribute={}, series_key=<SeriesKey: freq=A, indic_is=I_IUBK, unit=PC_IND, ind_type=IND_TOTAL, geo=FR>, dimension=<Key: TIME_PERIOD=2013>, value='57.56', value_for=None, group_keys=set()), Observation(attached_attribute={}, series_key=<SeriesKey: freq=A, indic_is=I_IUBK, unit=PC_IND, ind_type=IND_TOTAL, geo=FR>, dimension=<Key: TIME_PERIOD=2014>, value='57.60', value_for=None, group_keys=set()), Observation(attached_attribute={}, series_key=<SeriesKey: freq=A, indic_is=I_IUBK, unit=PC_IND, ind_type=IND_TOTAL, geo=FR>, dimension=<Key: TIME_PERIOD=2015>, value='58.28', value_for=None, group_keys=set()), Observation(attached_attribute={}, series_key=<SeriesKey: freq=A, indic_is=I_IUBK, unit=PC_IND, ind_type=IND_TOTAL, geo=FR>, dimension=<Key: TIME_PERIOD=2016>, value='59.36', value_for=None, group_keys=set()), Observation(attached_attribute={}, series_key=<SeriesKey: freq=A, indic_is=I_IUBK, unit=PC_IND, ind_type=IND_TOTAL, geo=FR>, dimension=<Key: TIME_PERIOD=2017>, value='62.01', value_for=None, group_keys=set()), Observation(attached_attribute={}, series_key=<SeriesKey: freq=A, indic_is=I_IUBK, unit=PC_IND, ind_type=IND_TOTAL, geo=FR>, dimension=<Key: TIME_PERIOD=2018>, value='63.48', value_for=None, group_keys=set()), Observation(attached_attribute={}, series_key=<SeriesKey: freq=A, indic_is=I_IUBK, unit=PC_IND, ind_type=IND_TOTAL, geo=FR>, dimension=<Key: TIME_PERIOD=2019>, value='65.55', value_for=None, group_keys=set()), Observation(attached_attribute={}, series_key=<SeriesKey: freq=A, indic_is=I_IUBK, unit=PC_IND, ind_type=IND_TOTAL, geo=FR>, dimension=<Key: TIME_PERIOD=2021>, value='71.60', value_for=None, group_keys=set()), Observation(attached_attribute={}, series_key=<SeriesKey: freq=A, indic_is=I_IUBK, unit=PC_IND, ind_type=IND_TOTAL, geo=FR>, dimension=<Key: TIME_PERIOD=2022>, value='67.86', value_for=None, group_keys=set()), Observation(attached_attribute={}, series_key=<SeriesKey: freq=A, indic_is=I_IUBK, unit=PC_IND, ind_type=IND_TOTAL, geo=PL>, dimension=<Key: TIME_PERIOD=2011>, value='27.46', value_for=None, group_keys=set()), Observation(attached_attribute={}, series_key=<SeriesKey: freq=A, indic_is=I_IUBK, unit=PC_IND, ind_type=IND_TOTAL, geo=PL>, dimension=<Key: TIME_PERIOD=2012>, value='31.96', value_for=None, group_keys=set()), Observation(attached_attribute={}, series_key=<SeriesKey: freq=A, indic_is=I_IUBK, unit=PC_IND, ind_type=IND_TOTAL, geo=PL>, dimension=<Key: TIME_PERIOD=2013>, value='32.01', value_for=None, group_keys=set()), Observation(attached_attribute={}, series_key=<SeriesKey: freq=A, indic_is=I_IUBK, unit=PC_IND, ind_type=IND_TOTAL, geo=PL>, dimension=<Key: TIME_PERIOD=2014>, value='32.59', value_for=None, group_keys=set()), Observation(attached_attribute={}, series_key=<SeriesKey: freq=A, indic_is=I_IUBK, unit=PC_IND, ind_type=IND_TOTAL, geo=PL>, dimension=<Key: TIME_PERIOD=2015>, value='31.20', value_for=None, group_keys=set()), Observation(attached_attribute={}, series_key=<SeriesKey: freq=A, indic_is=I_IUBK, unit=PC_IND, ind_type=IND_TOTAL, geo=PL>, dimension=<Key: TIME_PERIOD=2016>, value='39.11', value_for=None, group_keys=set()), Observation(attached_attribute={}, series_key=<SeriesKey: freq=A, indic_is=I_IUBK, unit=PC_IND, ind_type=IND_TOTAL, geo=PL>, dimension=<Key: TIME_PERIOD=2017>, value='39.77', value_for=None, group_keys=set()), Observation(attached_attribute={}, series_key=<SeriesKey: freq=A, indic_is=I_IUBK, unit=PC_IND, ind_type=IND_TOTAL, geo=PL>, dimension=<Key: TIME_PERIOD=2018>, value='44.01', value_for=None, group_keys=set()), Observation(attached_attribute={}, series_key=<SeriesKey: freq=A, indic_is=I_IUBK, unit=PC_IND, ind_type=IND_TOTAL, geo=PL>, dimension=<Key: TIME_PERIOD=2019>, value='47.27', value_for=None, group_keys=set()), Observation(attached_attribute={}, series_key=<SeriesKey: freq=A, indic_is=I_IUBK, unit=PC_IND, ind_type=IND_TOTAL, geo=PL>, dimension=<Key: TIME_PERIOD=2020>, value='49.49', value_for=None, group_keys=set()), Observation(attached_attribute={}, series_key=<SeriesKey: freq=A, indic_is=I_IUBK, unit=PC_IND, ind_type=IND_TOTAL, geo=PL>, dimension=<Key: TIME_PERIOD=2021>, value='52.24', value_for=None, group_keys=set()), Observation(attached_attribute={}, series_key=<SeriesKey: freq=A, indic_is=I_IUBK, unit=PC_IND, ind_type=IND_TOTAL, geo=PL>, dimension=<Key: TIME_PERIOD=2022>, value='55.55', value_for=None, group_keys=set()), Observation(attached_attribute={}, series_key=<SeriesKey: freq=A, indic_is=I_IUBK, unit=PC_IND, ind_type=IND_TOTAL, geo=RO>, dimension=<Key: TIME_PERIOD=2011>, value='3.51', value_for=None, group_keys=set()), Observation(attached_attribute={}, series_key=<SeriesKey: freq=A, indic_is=I_IUBK, unit=PC_IND, ind_type=IND_TOTAL, geo=RO>, dimension=<Key: TIME_PERIOD=2012>, value='3.45', value_for=None, group_keys=set()), Observation(attached_attribute={}, series_key=<SeriesKey: freq=A, indic_is=I_IUBK, unit=PC_IND, ind_type=IND_TOTAL, geo=RO>, dimension=<Key: TIME_PERIOD=2013>, value='4.30', value_for=None, group_keys=set()), Observation(attached_attribute={'OBS_FLAG': <AttributeValue: OBS_FLAG=b>}, series_key=<SeriesKey: freq=A, indic_is=I_IUBK, unit=PC_IND, ind_type=IND_TOTAL, geo=RO>, dimension=<Key: TIME_PERIOD=2014>, value='4.16', value_for=None, group_keys=set()), Observation(attached_attribute={}, series_key=<SeriesKey: freq=A, indic_is=I_IUBK, unit=PC_IND, ind_type=IND_TOTAL, geo=RO>, dimension=<Key: TIME_PERIOD=2015>, value='5.34', value_for=None, group_keys=set()), Observation(attached_attribute={}, series_key=<SeriesKey: freq=A, indic_is=I_IUBK, unit=PC_IND, ind_type=IND_TOTAL, geo=RO>, dimension=<Key: TIME_PERIOD=2016>, value='5.06', value_for=None, group_keys=set()), Observation(attached_attribute={}, series_key=<SeriesKey: freq=A, indic_is=I_IUBK, unit=PC_IND, ind_type=IND_TOTAL, geo=RO>, dimension=<Key: TIME_PERIOD=2017>, value='6.83', value_for=None, group_keys=set()), Observation(attached_attribute={}, series_key=<SeriesKey: freq=A, indic_is=I_IUBK, unit=PC_IND, ind_type=IND_TOTAL, geo=RO>, dimension=<Key: TIME_PERIOD=2018>, value='6.87', value_for=None, group_keys=set()), Observation(attached_attribute={}, series_key=<SeriesKey: freq=A, indic_is=I_IUBK, unit=PC_IND, ind_type=IND_TOTAL, geo=RO>, dimension=<Key: TIME_PERIOD=2019>, value='8.36', value_for=None, group_keys=set()), Observation(attached_attribute={}, series_key=<SeriesKey: freq=A, indic_is=I_IUBK, unit=PC_IND, ind_type=IND_TOTAL, geo=RO>, dimension=<Key: TIME_PERIOD=2020>, value='11.65', value_for=None, group_keys=set()), Observation(attached_attribute={}, series_key=<SeriesKey: freq=A, indic_is=I_IUBK, unit=PC_IND, ind_type=IND_TOTAL, geo=RO>, dimension=<Key: TIME_PERIOD=2021>, value='15.49', value_for=None, group_keys=set()), Observation(attached_attribute={}, series_key=<SeriesKey: freq=A, indic_is=I_IUBK, unit=PC_IND, ind_type=IND_TOTAL, geo=RO>, dimension=<Key: TIME_PERIOD=2022>, value='19.19', value_for=None, group_keys=set())], series={<SeriesKey: freq=A, indic_is=I_IUBK, unit=PC_IND, ind_type=IND_TOTAL, geo=DE>: [Observation(attached_attribute={}, series_key=<SeriesKey: freq=A, indic_is=I_IUBK, unit=PC_IND, ind_type=IND_TOTAL, geo=DE>, dimension=<Key: TIME_PERIOD=2011>, value='45.25', value_for=None, group_keys=set()), Observation(attached_attribute={}, series_key=<SeriesKey: freq=A, indic_is=I_IUBK, unit=PC_IND, ind_type=IND_TOTAL, geo=DE>, dimension=<Key: TIME_PERIOD=2012>, value='45.07', value_for=None, group_keys=set()), Observation(attached_attribute={}, series_key=<SeriesKey: freq=A, indic_is=I_IUBK, unit=PC_IND, ind_type=IND_TOTAL, geo=DE>, dimension=<Key: TIME_PERIOD=2013>, value='47.12', value_for=None, group_keys=set()), Observation(attached_attribute={}, series_key=<SeriesKey: freq=A, indic_is=I_IUBK, unit=PC_IND, ind_type=IND_TOTAL, geo=DE>, dimension=<Key: TIME_PERIOD=2014>, value='48.76', value_for=None, group_keys=set()), Observation(attached_attribute={}, series_key=<SeriesKey: freq=A, indic_is=I_IUBK, unit=PC_IND, ind_type=IND_TOTAL, geo=DE>, dimension=<Key: TIME_PERIOD=2015>, value='50.98', value_for=None, group_keys=set()), Observation(attached_attribute={}, series_key=<SeriesKey: freq=A, indic_is=I_IUBK, unit=PC_IND, ind_type=IND_TOTAL, geo=DE>, dimension=<Key: TIME_PERIOD=2016>, value='52.97', value_for=None, group_keys=set()), Observation(attached_attribute={}, series_key=<SeriesKey: freq=A, indic_is=I_IUBK, unit=PC_IND, ind_type=IND_TOTAL, geo=DE>, dimension=<Key: TIME_PERIOD=2017>, value='55.56', value_for=None, group_keys=set()), Observation(attached_attribute={}, series_key=<SeriesKey: freq=A, indic_is=I_IUBK, unit=PC_IND, ind_type=IND_TOTAL, geo=DE>, dimension=<Key: TIME_PERIOD=2018>, value='58.84', value_for=None, group_keys=set()), Observation(attached_attribute={}, series_key=<SeriesKey: freq=A, indic_is=I_IUBK, unit=PC_IND, ind_type=IND_TOTAL, geo=DE>, dimension=<Key: TIME_PERIOD=2019>, value='61.10', value_for=None, group_keys=set()), Observation(attached_attribute={}, series_key=<SeriesKey: freq=A, indic_is=I_IUBK, unit=PC_IND, ind_type=IND_TOTAL, geo=DE>, dimension=<Key: TIME_PERIOD=2020>, value='64.91', value_for=None, group_keys=set()), Observation(attached_attribute={'OBS_FLAG': <AttributeValue: OBS_FLAG=b>}, series_key=<SeriesKey: freq=A, indic_is=I_IUBK, unit=PC_IND, ind_type=IND_TOTAL, geo=DE>, dimension=<Key: TIME_PERIOD=2021>, value='50.35', value_for=None, group_keys=set()), Observation(attached_attribute={}, series_key=<SeriesKey: freq=A, indic_is=I_IUBK, unit=PC_IND, ind_type=IND_TOTAL, geo=DE>, dimension=<Key: TIME_PERIOD=2022>, value='48.58', value_for=None, group_keys=set())], <SeriesKey: freq=A, indic_is=I_IUBK, unit=PC_IND, ind_type=IND_TOTAL, geo=EE>: [Observation(attached_attribute={}, series_key=<SeriesKey: freq=A, indic_is=I_IUBK, unit=PC_IND, ind_type=IND_TOTAL, geo=EE>, dimension=<Key: TIME_PERIOD=2011>, value='67.59', value_for=None, group_keys=set()), Observation(attached_attribute={}, series_key=<SeriesKey: freq=A, indic_is=I_IUBK, unit=PC_IND, ind_type=IND_TOTAL, geo=EE>, dimension=<Key: TIME_PERIOD=2012>, value='68.06', value_for=None, group_keys=set()), Observation(attached_attribute={}, series_key=<SeriesKey: freq=A, indic_is=I_IUBK, unit=PC_IND, ind_type=IND_TOTAL, geo=EE>, dimension=<Key: TIME_PERIOD=2013>, value='72.22', value_for=None, group_keys=set()), Observation(attached_attribute={'OBS_FLAG': <AttributeValue: OBS_FLAG=b>}, series_key=<SeriesKey: freq=A, indic_is=I_IUBK, unit=PC_IND, ind_type=IND_TOTAL, geo=EE>, dimension=<Key: TIME_PERIOD=2014>, value='76.56', value_for=None, group_keys=set()), Observation(attached_attribute={}, series_key=<SeriesKey: freq=A, indic_is=I_IUBK, unit=PC_IND, ind_type=IND_TOTAL, geo=EE>, dimension=<Key: TIME_PERIOD=2015>, value='80.67', value_for=None, group_keys=set()), Observation(attached_attribute={}, series_key=<SeriesKey: freq=A, indic_is=I_IUBK, unit=PC_IND, ind_type=IND_TOTAL, geo=EE>, dimension=<Key: TIME_PERIOD=2016>, value='78.59', value_for=None, group_keys=set()), Observation(attached_attribute={}, series_key=<SeriesKey: freq=A, indic_is=I_IUBK, unit=PC_IND, ind_type=IND_TOTAL, geo=EE>, dimension=<Key: TIME_PERIOD=2017>, value='79.23', value_for=None, group_keys=set()), Observation(attached_attribute={}, series_key=<SeriesKey: freq=A, indic_is=I_IUBK, unit=PC_IND, ind_type=IND_TOTAL, geo=EE>, dimension=<Key: TIME_PERIOD=2018>, value='80.36', value_for=None, group_keys=set()), Observation(attached_attribute={}, series_key=<SeriesKey: freq=A, indic_is=I_IUBK, unit=PC_IND, ind_type=IND_TOTAL, geo=EE>, dimension=<Key: TIME_PERIOD=2019>, value='80.72', value_for=None, group_keys=set()), Observation(attached_attribute={}, series_key=<SeriesKey: freq=A, indic_is=I_IUBK, unit=PC_IND, ind_type=IND_TOTAL, geo=EE>, dimension=<Key: TIME_PERIOD=2020>, value='79.84', value_for=None, group_keys=set()), Observation(attached_attribute={}, series_key=<SeriesKey: freq=A, indic_is=I_IUBK, unit=PC_IND, ind_type=IND_TOTAL, geo=EE>, dimension=<Key: TIME_PERIOD=2021>, value='81.51', value_for=None, group_keys=set()), Observation(attached_attribute={}, series_key=<SeriesKey: freq=A, indic_is=I_IUBK, unit=PC_IND, ind_type=IND_TOTAL, geo=EE>, dimension=<Key: TIME_PERIOD=2022>, value='83.36', value_for=None, group_keys=set())], <SeriesKey: freq=A, indic_is=I_IUBK, unit=PC_IND, ind_type=IND_TOTAL, geo=FR>: [Observation(attached_attribute={}, series_key=<SeriesKey: freq=A, indic_is=I_IUBK, unit=PC_IND, ind_type=IND_TOTAL, geo=FR>, dimension=<Key: TIME_PERIOD=2011>, value='50.90', value_for=None, group_keys=set()), Observation(attached_attribute={}, series_key=<SeriesKey: freq=A, indic_is=I_IUBK, unit=PC_IND, ind_type=IND_TOTAL, geo=FR>, dimension=<Key: TIME_PERIOD=2012>, value='54.04', value_for=None, group_keys=set()), Observation(attached_attribute={}, series_key=<SeriesKey: freq=A, indic_is=I_IUBK, unit=PC_IND, ind_type=IND_TOTAL, geo=FR>, dimension=<Key: TIME_PERIOD=2013>, value='57.56', value_for=None, group_keys=set()), Observation(attached_attribute={}, series_key=<SeriesKey: freq=A, indic_is=I_IUBK, unit=PC_IND, ind_type=IND_TOTAL, geo=FR>, dimension=<Key: TIME_PERIOD=2014>, value='57.60', value_for=None, group_keys=set()), Observation(attached_attribute={}, series_key=<SeriesKey: freq=A, indic_is=I_IUBK, unit=PC_IND, ind_type=IND_TOTAL, geo=FR>, dimension=<Key: TIME_PERIOD=2015>, value='58.28', value_for=None, group_keys=set()), Observation(attached_attribute={}, series_key=<SeriesKey: freq=A, indic_is=I_IUBK, unit=PC_IND, ind_type=IND_TOTAL, geo=FR>, dimension=<Key: TIME_PERIOD=2016>, value='59.36', value_for=None, group_keys=set()), Observation(attached_attribute={}, series_key=<SeriesKey: freq=A, indic_is=I_IUBK, unit=PC_IND, ind_type=IND_TOTAL, geo=FR>, dimension=<Key: TIME_PERIOD=2017>, value='62.01', value_for=None, group_keys=set()), Observation(attached_attribute={}, series_key=<SeriesKey: freq=A, indic_is=I_IUBK, unit=PC_IND, ind_type=IND_TOTAL, geo=FR>, dimension=<Key: TIME_PERIOD=2018>, value='63.48', value_for=None, group_keys=set()), Observation(attached_attribute={}, series_key=<SeriesKey: freq=A, indic_is=I_IUBK, unit=PC_IND, ind_type=IND_TOTAL, geo=FR>, dimension=<Key: TIME_PERIOD=2019>, value='65.55', value_for=None, group_keys=set()), Observation(attached_attribute={}, series_key=<SeriesKey: freq=A, indic_is=I_IUBK, unit=PC_IND, ind_type=IND_TOTAL, geo=FR>, dimension=<Key: TIME_PERIOD=2021>, value='71.60', value_for=None, group_keys=set()), Observation(attached_attribute={}, series_key=<SeriesKey: freq=A, indic_is=I_IUBK, unit=PC_IND, ind_type=IND_TOTAL, geo=FR>, dimension=<Key: TIME_PERIOD=2022>, value='67.86', value_for=None, group_keys=set())], <SeriesKey: freq=A, indic_is=I_IUBK, unit=PC_IND, ind_type=IND_TOTAL, geo=PL>: [Observation(attached_attribute={}, series_key=<SeriesKey: freq=A, indic_is=I_IUBK, unit=PC_IND, ind_type=IND_TOTAL, geo=PL>, dimension=<Key: TIME_PERIOD=2011>, value='27.46', value_for=None, group_keys=set()), Observation(attached_attribute={}, series_key=<SeriesKey: freq=A, indic_is=I_IUBK, unit=PC_IND, ind_type=IND_TOTAL, geo=PL>, dimension=<Key: TIME_PERIOD=2012>, value='31.96', value_for=None, group_keys=set()), Observation(attached_attribute={}, series_key=<SeriesKey: freq=A, indic_is=I_IUBK, unit=PC_IND, ind_type=IND_TOTAL, geo=PL>, dimension=<Key: TIME_PERIOD=2013>, value='32.01', value_for=None, group_keys=set()), Observation(attached_attribute={}, series_key=<SeriesKey: freq=A, indic_is=I_IUBK, unit=PC_IND, ind_type=IND_TOTAL, geo=PL>, dimension=<Key: TIME_PERIOD=2014>, value='32.59', value_for=None, group_keys=set()), Observation(attached_attribute={}, series_key=<SeriesKey: freq=A, indic_is=I_IUBK, unit=PC_IND, ind_type=IND_TOTAL, geo=PL>, dimension=<Key: TIME_PERIOD=2015>, value='31.20', value_for=None, group_keys=set()), Observation(attached_attribute={}, series_key=<SeriesKey: freq=A, indic_is=I_IUBK, unit=PC_IND, ind_type=IND_TOTAL, geo=PL>, dimension=<Key: TIME_PERIOD=2016>, value='39.11', value_for=None, group_keys=set()), Observation(attached_attribute={}, series_key=<SeriesKey: freq=A, indic_is=I_IUBK, unit=PC_IND, ind_type=IND_TOTAL, geo=PL>, dimension=<Key: TIME_PERIOD=2017>, value='39.77', value_for=None, group_keys=set()), Observation(attached_attribute={}, series_key=<SeriesKey: freq=A, indic_is=I_IUBK, unit=PC_IND, ind_type=IND_TOTAL, geo=PL>, dimension=<Key: TIME_PERIOD=2018>, value='44.01', value_for=None, group_keys=set()), Observation(attached_attribute={}, series_key=<SeriesKey: freq=A, indic_is=I_IUBK, unit=PC_IND, ind_type=IND_TOTAL, geo=PL>, dimension=<Key: TIME_PERIOD=2019>, value='47.27', value_for=None, group_keys=set()), Observation(attached_attribute={}, series_key=<SeriesKey: freq=A, indic_is=I_IUBK, unit=PC_IND, ind_type=IND_TOTAL, geo=PL>, dimension=<Key: TIME_PERIOD=2020>, value='49.49', value_for=None, group_keys=set()), Observation(attached_attribute={}, series_key=<SeriesKey: freq=A, indic_is=I_IUBK, unit=PC_IND, ind_type=IND_TOTAL, geo=PL>, dimension=<Key: TIME_PERIOD=2021>, value='52.24', value_for=None, group_keys=set()), Observation(attached_attribute={}, series_key=<SeriesKey: freq=A, indic_is=I_IUBK, unit=PC_IND, ind_type=IND_TOTAL, geo=PL>, dimension=<Key: TIME_PERIOD=2022>, value='55.55', value_for=None, group_keys=set())], <SeriesKey: freq=A, indic_is=I_IUBK, unit=PC_IND, ind_type=IND_TOTAL, geo=RO>: [Observation(attached_attribute={}, series_key=<SeriesKey: freq=A, indic_is=I_IUBK, unit=PC_IND, ind_type=IND_TOTAL, geo=RO>, dimension=<Key: TIME_PERIOD=2011>, value='3.51', value_for=None, group_keys=set()), Observation(attached_attribute={}, series_key=<SeriesKey: freq=A, indic_is=I_IUBK, unit=PC_IND, ind_type=IND_TOTAL, geo=RO>, dimension=<Key: TIME_PERIOD=2012>, value='3.45', value_for=None, group_keys=set()), Observation(attached_attribute={}, series_key=<SeriesKey: freq=A, indic_is=I_IUBK, unit=PC_IND, ind_type=IND_TOTAL, geo=RO>, dimension=<Key: TIME_PERIOD=2013>, value='4.30', value_for=None, group_keys=set()), Observation(attached_attribute={'OBS_FLAG': <AttributeValue: OBS_FLAG=b>}, series_key=<SeriesKey: freq=A, indic_is=I_IUBK, unit=PC_IND, ind_type=IND_TOTAL, geo=RO>, dimension=<Key: TIME_PERIOD=2014>, value='4.16', value_for=None, group_keys=set()), Observation(attached_attribute={}, series_key=<SeriesKey: freq=A, indic_is=I_IUBK, unit=PC_IND, ind_type=IND_TOTAL, geo=RO>, dimension=<Key: TIME_PERIOD=2015>, value='5.34', value_for=None, group_keys=set()), Observation(attached_attribute={}, series_key=<SeriesKey: freq=A, indic_is=I_IUBK, unit=PC_IND, ind_type=IND_TOTAL, geo=RO>, dimension=<Key: TIME_PERIOD=2016>, value='5.06', value_for=None, group_keys=set()), Observation(attached_attribute={}, series_key=<SeriesKey: freq=A, indic_is=I_IUBK, unit=PC_IND, ind_type=IND_TOTAL, geo=RO>, dimension=<Key: TIME_PERIOD=2017>, value='6.83', value_for=None, group_keys=set()), Observation(attached_attribute={}, series_key=<SeriesKey: freq=A, indic_is=I_IUBK, unit=PC_IND, ind_type=IND_TOTAL, geo=RO>, dimension=<Key: TIME_PERIOD=2018>, value='6.87', value_for=None, group_keys=set()), Observation(attached_attribute={}, series_key=<SeriesKey: freq=A, indic_is=I_IUBK, unit=PC_IND, ind_type=IND_TOTAL, geo=RO>, dimension=<Key: TIME_PERIOD=2019>, value='8.36', value_for=None, group_keys=set()), Observation(attached_attribute={}, series_key=<SeriesKey: freq=A, indic_is=I_IUBK, unit=PC_IND, ind_type=IND_TOTAL, geo=RO>, dimension=<Key: TIME_PERIOD=2020>, value='11.65', value_for=None, group_keys=set()), Observation(attached_attribute={}, series_key=<SeriesKey: freq=A, indic_is=I_IUBK, unit=PC_IND, ind_type=IND_TOTAL, geo=RO>, dimension=<Key: TIME_PERIOD=2021>, value='15.49', value_for=None, group_keys=set()), Observation(attached_attribute={}, series_key=<SeriesKey: freq=A, indic_is=I_IUBK, unit=PC_IND, ind_type=IND_TOTAL, geo=RO>, dimension=<Key: TIME_PERIOD=2022>, value='19.19', value_for=None, group_keys=set())]}, group={})]"
      ]
     },
     "execution_count": 40,
     "metadata": {},
     "output_type": "execute_result"
    }
   ],
   "source": [
    "data_msg.data"
   ]
  },
  {
   "cell_type": "code",
   "execution_count": 41,
   "metadata": {},
   "outputs": [],
   "source": [
    "data = data_msg.data[0]"
   ]
  },
  {
   "cell_type": "markdown",
   "metadata": {},
   "source": [
    "The data consists of series and observations.\n",
    "\n",
    "There are five series (one for each country)."
   ]
  },
  {
   "cell_type": "code",
   "execution_count": 42,
   "metadata": {},
   "outputs": [
    {
     "data": {
      "text/plain": [
       "5"
      ]
     },
     "execution_count": 42,
     "metadata": {},
     "output_type": "execute_result"
    }
   ],
   "source": [
    "len(data.series)"
   ]
  },
  {
   "cell_type": "markdown",
   "metadata": {},
   "source": [
    "The series have keys."
   ]
  },
  {
   "cell_type": "code",
   "execution_count": 43,
   "metadata": {},
   "outputs": [
    {
     "data": {
      "text/plain": [
       "dict_keys([<SeriesKey: freq=A, indic_is=I_IUBK, unit=PC_IND, ind_type=IND_TOTAL, geo=DE>, <SeriesKey: freq=A, indic_is=I_IUBK, unit=PC_IND, ind_type=IND_TOTAL, geo=EE>, <SeriesKey: freq=A, indic_is=I_IUBK, unit=PC_IND, ind_type=IND_TOTAL, geo=FR>, <SeriesKey: freq=A, indic_is=I_IUBK, unit=PC_IND, ind_type=IND_TOTAL, geo=PL>, <SeriesKey: freq=A, indic_is=I_IUBK, unit=PC_IND, ind_type=IND_TOTAL, geo=RO>])"
      ]
     },
     "execution_count": 43,
     "metadata": {},
     "output_type": "execute_result"
    }
   ],
   "source": [
    "data.series.keys()"
   ]
  },
  {
   "cell_type": "markdown",
   "metadata": {},
   "source": [
    "Observations correspond to cells in a data table. We have 12(years) * 5(countries) - 1 (missing data) = 59 observations."
   ]
  },
  {
   "cell_type": "code",
   "execution_count": 44,
   "metadata": {},
   "outputs": [
    {
     "data": {
      "text/plain": [
       "59"
      ]
     },
     "execution_count": 44,
     "metadata": {},
     "output_type": "execute_result"
    }
   ],
   "source": [
    "len(data.obs)"
   ]
  },
  {
   "cell_type": "markdown",
   "metadata": {},
   "source": [
    "We convert the data into a pandas object."
   ]
  },
  {
   "cell_type": "code",
   "execution_count": 45,
   "metadata": {},
   "outputs": [],
   "source": [
    "data_df = data_msg.to_pandas()"
   ]
  },
  {
   "cell_type": "markdown",
   "metadata": {},
   "source": [
    "It's a pandas series."
   ]
  },
  {
   "cell_type": "code",
   "execution_count": 46,
   "metadata": {},
   "outputs": [
    {
     "data": {
      "text/plain": [
       "pandas.core.series.Series"
      ]
     },
     "execution_count": 46,
     "metadata": {},
     "output_type": "execute_result"
    }
   ],
   "source": [
    "type(data_df)"
   ]
  },
  {
   "cell_type": "markdown",
   "metadata": {},
   "source": [
    "... with a multi index."
   ]
  },
  {
   "cell_type": "code",
   "execution_count": 47,
   "metadata": {},
   "outputs": [
    {
     "data": {
      "text/plain": [
       "MultiIndex([('A', 'I_IUBK', 'PC_IND', 'IND_TOTAL', 'DE', '2011'),\n",
       "            ('A', 'I_IUBK', 'PC_IND', 'IND_TOTAL', 'DE', '2012'),\n",
       "            ('A', 'I_IUBK', 'PC_IND', 'IND_TOTAL', 'DE', '2013'),\n",
       "            ('A', 'I_IUBK', 'PC_IND', 'IND_TOTAL', 'DE', '2014'),\n",
       "            ('A', 'I_IUBK', 'PC_IND', 'IND_TOTAL', 'DE', '2015'),\n",
       "            ('A', 'I_IUBK', 'PC_IND', 'IND_TOTAL', 'DE', '2016'),\n",
       "            ('A', 'I_IUBK', 'PC_IND', 'IND_TOTAL', 'DE', '2017'),\n",
       "            ('A', 'I_IUBK', 'PC_IND', 'IND_TOTAL', 'DE', '2018'),\n",
       "            ('A', 'I_IUBK', 'PC_IND', 'IND_TOTAL', 'DE', '2019'),\n",
       "            ('A', 'I_IUBK', 'PC_IND', 'IND_TOTAL', 'DE', '2020'),\n",
       "            ('A', 'I_IUBK', 'PC_IND', 'IND_TOTAL', 'DE', '2021'),\n",
       "            ('A', 'I_IUBK', 'PC_IND', 'IND_TOTAL', 'DE', '2022'),\n",
       "            ('A', 'I_IUBK', 'PC_IND', 'IND_TOTAL', 'EE', '2011'),\n",
       "            ('A', 'I_IUBK', 'PC_IND', 'IND_TOTAL', 'EE', '2012'),\n",
       "            ('A', 'I_IUBK', 'PC_IND', 'IND_TOTAL', 'EE', '2013'),\n",
       "            ('A', 'I_IUBK', 'PC_IND', 'IND_TOTAL', 'EE', '2014'),\n",
       "            ('A', 'I_IUBK', 'PC_IND', 'IND_TOTAL', 'EE', '2015'),\n",
       "            ('A', 'I_IUBK', 'PC_IND', 'IND_TOTAL', 'EE', '2016'),\n",
       "            ('A', 'I_IUBK', 'PC_IND', 'IND_TOTAL', 'EE', '2017'),\n",
       "            ('A', 'I_IUBK', 'PC_IND', 'IND_TOTAL', 'EE', '2018'),\n",
       "            ('A', 'I_IUBK', 'PC_IND', 'IND_TOTAL', 'EE', '2019'),\n",
       "            ('A', 'I_IUBK', 'PC_IND', 'IND_TOTAL', 'EE', '2020'),\n",
       "            ('A', 'I_IUBK', 'PC_IND', 'IND_TOTAL', 'EE', '2021'),\n",
       "            ('A', 'I_IUBK', 'PC_IND', 'IND_TOTAL', 'EE', '2022'),\n",
       "            ('A', 'I_IUBK', 'PC_IND', 'IND_TOTAL', 'FR', '2011'),\n",
       "            ('A', 'I_IUBK', 'PC_IND', 'IND_TOTAL', 'FR', '2012'),\n",
       "            ('A', 'I_IUBK', 'PC_IND', 'IND_TOTAL', 'FR', '2013'),\n",
       "            ('A', 'I_IUBK', 'PC_IND', 'IND_TOTAL', 'FR', '2014'),\n",
       "            ('A', 'I_IUBK', 'PC_IND', 'IND_TOTAL', 'FR', '2015'),\n",
       "            ('A', 'I_IUBK', 'PC_IND', 'IND_TOTAL', 'FR', '2016'),\n",
       "            ('A', 'I_IUBK', 'PC_IND', 'IND_TOTAL', 'FR', '2017'),\n",
       "            ('A', 'I_IUBK', 'PC_IND', 'IND_TOTAL', 'FR', '2018'),\n",
       "            ('A', 'I_IUBK', 'PC_IND', 'IND_TOTAL', 'FR', '2019'),\n",
       "            ('A', 'I_IUBK', 'PC_IND', 'IND_TOTAL', 'FR', '2021'),\n",
       "            ('A', 'I_IUBK', 'PC_IND', 'IND_TOTAL', 'FR', '2022'),\n",
       "            ('A', 'I_IUBK', 'PC_IND', 'IND_TOTAL', 'PL', '2011'),\n",
       "            ('A', 'I_IUBK', 'PC_IND', 'IND_TOTAL', 'PL', '2012'),\n",
       "            ('A', 'I_IUBK', 'PC_IND', 'IND_TOTAL', 'PL', '2013'),\n",
       "            ('A', 'I_IUBK', 'PC_IND', 'IND_TOTAL', 'PL', '2014'),\n",
       "            ('A', 'I_IUBK', 'PC_IND', 'IND_TOTAL', 'PL', '2015'),\n",
       "            ('A', 'I_IUBK', 'PC_IND', 'IND_TOTAL', 'PL', '2016'),\n",
       "            ('A', 'I_IUBK', 'PC_IND', 'IND_TOTAL', 'PL', '2017'),\n",
       "            ('A', 'I_IUBK', 'PC_IND', 'IND_TOTAL', 'PL', '2018'),\n",
       "            ('A', 'I_IUBK', 'PC_IND', 'IND_TOTAL', 'PL', '2019'),\n",
       "            ('A', 'I_IUBK', 'PC_IND', 'IND_TOTAL', 'PL', '2020'),\n",
       "            ('A', 'I_IUBK', 'PC_IND', 'IND_TOTAL', 'PL', '2021'),\n",
       "            ('A', 'I_IUBK', 'PC_IND', 'IND_TOTAL', 'PL', '2022'),\n",
       "            ('A', 'I_IUBK', 'PC_IND', 'IND_TOTAL', 'RO', '2011'),\n",
       "            ('A', 'I_IUBK', 'PC_IND', 'IND_TOTAL', 'RO', '2012'),\n",
       "            ('A', 'I_IUBK', 'PC_IND', 'IND_TOTAL', 'RO', '2013'),\n",
       "            ('A', 'I_IUBK', 'PC_IND', 'IND_TOTAL', 'RO', '2014'),\n",
       "            ('A', 'I_IUBK', 'PC_IND', 'IND_TOTAL', 'RO', '2015'),\n",
       "            ('A', 'I_IUBK', 'PC_IND', 'IND_TOTAL', 'RO', '2016'),\n",
       "            ('A', 'I_IUBK', 'PC_IND', 'IND_TOTAL', 'RO', '2017'),\n",
       "            ('A', 'I_IUBK', 'PC_IND', 'IND_TOTAL', 'RO', '2018'),\n",
       "            ('A', 'I_IUBK', 'PC_IND', 'IND_TOTAL', 'RO', '2019'),\n",
       "            ('A', 'I_IUBK', 'PC_IND', 'IND_TOTAL', 'RO', '2020'),\n",
       "            ('A', 'I_IUBK', 'PC_IND', 'IND_TOTAL', 'RO', '2021'),\n",
       "            ('A', 'I_IUBK', 'PC_IND', 'IND_TOTAL', 'RO', '2022')],\n",
       "           names=['freq', 'indic_is', 'unit', 'ind_type', 'geo', 'TIME_PERIOD'])"
      ]
     },
     "execution_count": 47,
     "metadata": {},
     "output_type": "execute_result"
    }
   ],
   "source": [
    "data_df.index"
   ]
  },
  {
   "cell_type": "markdown",
   "metadata": {},
   "source": [
    "A more convenient way to arrange the data is this:"
   ]
  },
  {
   "cell_type": "code",
   "execution_count": 48,
   "metadata": {},
   "outputs": [],
   "source": [
    "data_df2 = sdmx.to_pandas(\n",
    "        data,\n",
    "        datetime={\n",
    "                'dim': 'TIME_PERIOD',\n",
    "                'freq': 'freq',\n",
    "                'axis': 1\n",
    "            }\n",
    "    )"
   ]
  },
  {
   "cell_type": "markdown",
   "metadata": {},
   "source": [
    "This time we get a pandas DataFrame."
   ]
  },
  {
   "cell_type": "code",
   "execution_count": 49,
   "metadata": {},
   "outputs": [
    {
     "data": {
      "text/plain": [
       "pandas.core.frame.DataFrame"
      ]
     },
     "execution_count": 49,
     "metadata": {},
     "output_type": "execute_result"
    }
   ],
   "source": [
    "type(data_df2)"
   ]
  },
  {
   "cell_type": "markdown",
   "metadata": {},
   "source": [
    "The datetime argument transforms the years into a PeriodIndex in the columns (axis 1)."
   ]
  },
  {
   "cell_type": "code",
   "execution_count": 50,
   "metadata": {},
   "outputs": [
    {
     "data": {
      "text/plain": [
       "PeriodIndex(['2011', '2012', '2013', '2014', '2015', '2016', '2017', '2018',\n",
       "             '2019', '2020', '2021', '2022'],\n",
       "            dtype='period[A-DEC]', name='TIME_PERIOD')"
      ]
     },
     "execution_count": 50,
     "metadata": {},
     "output_type": "execute_result"
    }
   ],
   "source": [
    "data_df2.columns"
   ]
  },
  {
   "cell_type": "code",
   "execution_count": 51,
   "metadata": {},
   "outputs": [
    {
     "data": {
      "text/html": [
       "<div>\n",
       "<style scoped>\n",
       "    .dataframe tbody tr th:only-of-type {\n",
       "        vertical-align: middle;\n",
       "    }\n",
       "\n",
       "    .dataframe tbody tr th {\n",
       "        vertical-align: top;\n",
       "    }\n",
       "\n",
       "    .dataframe thead th {\n",
       "        text-align: right;\n",
       "    }\n",
       "</style>\n",
       "<table border=\"1\" class=\"dataframe\">\n",
       "  <thead>\n",
       "    <tr style=\"text-align: right;\">\n",
       "      <th></th>\n",
       "      <th></th>\n",
       "      <th></th>\n",
       "      <th>TIME_PERIOD</th>\n",
       "      <th>2011</th>\n",
       "      <th>2012</th>\n",
       "      <th>2013</th>\n",
       "      <th>2014</th>\n",
       "      <th>2015</th>\n",
       "      <th>2016</th>\n",
       "      <th>2017</th>\n",
       "      <th>2018</th>\n",
       "      <th>2019</th>\n",
       "      <th>2020</th>\n",
       "      <th>2021</th>\n",
       "      <th>2022</th>\n",
       "    </tr>\n",
       "    <tr>\n",
       "      <th>indic_is</th>\n",
       "      <th>unit</th>\n",
       "      <th>ind_type</th>\n",
       "      <th>geo</th>\n",
       "      <th></th>\n",
       "      <th></th>\n",
       "      <th></th>\n",
       "      <th></th>\n",
       "      <th></th>\n",
       "      <th></th>\n",
       "      <th></th>\n",
       "      <th></th>\n",
       "      <th></th>\n",
       "      <th></th>\n",
       "      <th></th>\n",
       "      <th></th>\n",
       "    </tr>\n",
       "  </thead>\n",
       "  <tbody>\n",
       "    <tr>\n",
       "      <th rowspan=\"5\" valign=\"top\">I_IUBK</th>\n",
       "      <th rowspan=\"5\" valign=\"top\">PC_IND</th>\n",
       "      <th rowspan=\"5\" valign=\"top\">IND_TOTAL</th>\n",
       "      <th>DE</th>\n",
       "      <td>45.25</td>\n",
       "      <td>45.07</td>\n",
       "      <td>47.12</td>\n",
       "      <td>48.76</td>\n",
       "      <td>50.98</td>\n",
       "      <td>52.97</td>\n",
       "      <td>55.56</td>\n",
       "      <td>58.84</td>\n",
       "      <td>61.10</td>\n",
       "      <td>64.91</td>\n",
       "      <td>50.35</td>\n",
       "      <td>48.58</td>\n",
       "    </tr>\n",
       "    <tr>\n",
       "      <th>EE</th>\n",
       "      <td>67.59</td>\n",
       "      <td>68.06</td>\n",
       "      <td>72.22</td>\n",
       "      <td>76.56</td>\n",
       "      <td>80.67</td>\n",
       "      <td>78.59</td>\n",
       "      <td>79.23</td>\n",
       "      <td>80.36</td>\n",
       "      <td>80.72</td>\n",
       "      <td>79.84</td>\n",
       "      <td>81.51</td>\n",
       "      <td>83.36</td>\n",
       "    </tr>\n",
       "    <tr>\n",
       "      <th>FR</th>\n",
       "      <td>50.90</td>\n",
       "      <td>54.04</td>\n",
       "      <td>57.56</td>\n",
       "      <td>57.60</td>\n",
       "      <td>58.28</td>\n",
       "      <td>59.36</td>\n",
       "      <td>62.01</td>\n",
       "      <td>63.48</td>\n",
       "      <td>65.55</td>\n",
       "      <td>NaN</td>\n",
       "      <td>71.60</td>\n",
       "      <td>67.86</td>\n",
       "    </tr>\n",
       "    <tr>\n",
       "      <th>PL</th>\n",
       "      <td>27.46</td>\n",
       "      <td>31.96</td>\n",
       "      <td>32.01</td>\n",
       "      <td>32.59</td>\n",
       "      <td>31.20</td>\n",
       "      <td>39.11</td>\n",
       "      <td>39.77</td>\n",
       "      <td>44.01</td>\n",
       "      <td>47.27</td>\n",
       "      <td>49.49</td>\n",
       "      <td>52.24</td>\n",
       "      <td>55.55</td>\n",
       "    </tr>\n",
       "    <tr>\n",
       "      <th>RO</th>\n",
       "      <td>3.51</td>\n",
       "      <td>3.45</td>\n",
       "      <td>4.30</td>\n",
       "      <td>4.16</td>\n",
       "      <td>5.34</td>\n",
       "      <td>5.06</td>\n",
       "      <td>6.83</td>\n",
       "      <td>6.87</td>\n",
       "      <td>8.36</td>\n",
       "      <td>11.65</td>\n",
       "      <td>15.49</td>\n",
       "      <td>19.19</td>\n",
       "    </tr>\n",
       "  </tbody>\n",
       "</table>\n",
       "</div>"
      ],
      "text/plain": [
       "TIME_PERIOD                     2011   2012   2013   2014   2015   2016  \\\n",
       "indic_is unit   ind_type  geo                                             \n",
       "I_IUBK   PC_IND IND_TOTAL DE   45.25  45.07  47.12  48.76  50.98  52.97   \n",
       "                          EE   67.59  68.06  72.22  76.56  80.67  78.59   \n",
       "                          FR   50.90  54.04  57.56  57.60  58.28  59.36   \n",
       "                          PL   27.46  31.96  32.01  32.59  31.20  39.11   \n",
       "                          RO    3.51   3.45   4.30   4.16   5.34   5.06   \n",
       "\n",
       "TIME_PERIOD                     2017   2018   2019   2020   2021   2022  \n",
       "indic_is unit   ind_type  geo                                            \n",
       "I_IUBK   PC_IND IND_TOTAL DE   55.56  58.84  61.10  64.91  50.35  48.58  \n",
       "                          EE   79.23  80.36  80.72  79.84  81.51  83.36  \n",
       "                          FR   62.01  63.48  65.55    NaN  71.60  67.86  \n",
       "                          PL   39.77  44.01  47.27  49.49  52.24  55.55  \n",
       "                          RO    6.83   6.87   8.36  11.65  15.49  19.19  "
      ]
     },
     "execution_count": 51,
     "metadata": {},
     "output_type": "execute_result"
    }
   ],
   "source": [
    "data_df2"
   ]
  },
  {
   "cell_type": "markdown",
   "metadata": {},
   "source": [
    "A final clean-up to have a simple index with only the countries."
   ]
  },
  {
   "cell_type": "code",
   "execution_count": 52,
   "metadata": {},
   "outputs": [],
   "source": [
    "data_final = data_df2.xs(\n",
    "        key=(\"I_IUBK\", \"PC_IND\", \"IND_TOTAL\"),\n",
    "        level=(\"indic_is\", \"unit\", \"ind_type\")\n",
    "    )"
   ]
  },
  {
   "cell_type": "code",
   "execution_count": 57,
   "metadata": {},
   "outputs": [
    {
     "data": {
      "text/html": [
       "<div>\n",
       "<style scoped>\n",
       "    .dataframe tbody tr th:only-of-type {\n",
       "        vertical-align: middle;\n",
       "    }\n",
       "\n",
       "    .dataframe tbody tr th {\n",
       "        vertical-align: top;\n",
       "    }\n",
       "\n",
       "    .dataframe thead th {\n",
       "        text-align: right;\n",
       "    }\n",
       "</style>\n",
       "<table border=\"1\" class=\"dataframe\">\n",
       "  <thead>\n",
       "    <tr style=\"text-align: right;\">\n",
       "      <th>TIME_PERIOD</th>\n",
       "      <th>2011</th>\n",
       "      <th>2012</th>\n",
       "      <th>2013</th>\n",
       "      <th>2014</th>\n",
       "      <th>2015</th>\n",
       "      <th>2016</th>\n",
       "      <th>2017</th>\n",
       "      <th>2018</th>\n",
       "      <th>2019</th>\n",
       "      <th>2020</th>\n",
       "      <th>2021</th>\n",
       "      <th>2022</th>\n",
       "    </tr>\n",
       "    <tr>\n",
       "      <th>geo</th>\n",
       "      <th></th>\n",
       "      <th></th>\n",
       "      <th></th>\n",
       "      <th></th>\n",
       "      <th></th>\n",
       "      <th></th>\n",
       "      <th></th>\n",
       "      <th></th>\n",
       "      <th></th>\n",
       "      <th></th>\n",
       "      <th></th>\n",
       "      <th></th>\n",
       "    </tr>\n",
       "  </thead>\n",
       "  <tbody>\n",
       "    <tr>\n",
       "      <th>DE</th>\n",
       "      <td>45.25</td>\n",
       "      <td>45.07</td>\n",
       "      <td>47.12</td>\n",
       "      <td>48.76</td>\n",
       "      <td>50.98</td>\n",
       "      <td>52.97</td>\n",
       "      <td>55.56</td>\n",
       "      <td>58.84</td>\n",
       "      <td>61.10</td>\n",
       "      <td>64.91</td>\n",
       "      <td>50.35</td>\n",
       "      <td>48.58</td>\n",
       "    </tr>\n",
       "    <tr>\n",
       "      <th>EE</th>\n",
       "      <td>67.59</td>\n",
       "      <td>68.06</td>\n",
       "      <td>72.22</td>\n",
       "      <td>76.56</td>\n",
       "      <td>80.67</td>\n",
       "      <td>78.59</td>\n",
       "      <td>79.23</td>\n",
       "      <td>80.36</td>\n",
       "      <td>80.72</td>\n",
       "      <td>79.84</td>\n",
       "      <td>81.51</td>\n",
       "      <td>83.36</td>\n",
       "    </tr>\n",
       "    <tr>\n",
       "      <th>FR</th>\n",
       "      <td>50.90</td>\n",
       "      <td>54.04</td>\n",
       "      <td>57.56</td>\n",
       "      <td>57.60</td>\n",
       "      <td>58.28</td>\n",
       "      <td>59.36</td>\n",
       "      <td>62.01</td>\n",
       "      <td>63.48</td>\n",
       "      <td>65.55</td>\n",
       "      <td>NaN</td>\n",
       "      <td>71.60</td>\n",
       "      <td>67.86</td>\n",
       "    </tr>\n",
       "    <tr>\n",
       "      <th>PL</th>\n",
       "      <td>27.46</td>\n",
       "      <td>31.96</td>\n",
       "      <td>32.01</td>\n",
       "      <td>32.59</td>\n",
       "      <td>31.20</td>\n",
       "      <td>39.11</td>\n",
       "      <td>39.77</td>\n",
       "      <td>44.01</td>\n",
       "      <td>47.27</td>\n",
       "      <td>49.49</td>\n",
       "      <td>52.24</td>\n",
       "      <td>55.55</td>\n",
       "    </tr>\n",
       "    <tr>\n",
       "      <th>RO</th>\n",
       "      <td>3.51</td>\n",
       "      <td>3.45</td>\n",
       "      <td>4.30</td>\n",
       "      <td>4.16</td>\n",
       "      <td>5.34</td>\n",
       "      <td>5.06</td>\n",
       "      <td>6.83</td>\n",
       "      <td>6.87</td>\n",
       "      <td>8.36</td>\n",
       "      <td>11.65</td>\n",
       "      <td>15.49</td>\n",
       "      <td>19.19</td>\n",
       "    </tr>\n",
       "  </tbody>\n",
       "</table>\n",
       "</div>"
      ],
      "text/plain": [
       "TIME_PERIOD   2011   2012   2013   2014   2015   2016   2017   2018   2019  \\\n",
       "geo                                                                          \n",
       "DE           45.25  45.07  47.12  48.76  50.98  52.97  55.56  58.84  61.10   \n",
       "EE           67.59  68.06  72.22  76.56  80.67  78.59  79.23  80.36  80.72   \n",
       "FR           50.90  54.04  57.56  57.60  58.28  59.36  62.01  63.48  65.55   \n",
       "PL           27.46  31.96  32.01  32.59  31.20  39.11  39.77  44.01  47.27   \n",
       "RO            3.51   3.45   4.30   4.16   5.34   5.06   6.83   6.87   8.36   \n",
       "\n",
       "TIME_PERIOD   2020   2021   2022  \n",
       "geo                               \n",
       "DE           64.91  50.35  48.58  \n",
       "EE           79.84  81.51  83.36  \n",
       "FR             NaN  71.60  67.86  \n",
       "PL           49.49  52.24  55.55  \n",
       "RO           11.65  15.49  19.19  "
      ]
     },
     "execution_count": 57,
     "metadata": {},
     "output_type": "execute_result"
    }
   ],
   "source": [
    "data_final"
   ]
  },
  {
   "cell_type": "markdown",
   "metadata": {},
   "source": [
    "The missing data point we have already noticed is FR-2020."
   ]
  },
  {
   "cell_type": "markdown",
   "metadata": {},
   "source": [
    "## Visualise the data"
   ]
  },
  {
   "cell_type": "code",
   "execution_count": 55,
   "metadata": {},
   "outputs": [
    {
     "data": {
      "image/png": "[encoded data removed]",
      "text/plain": [
       "<Figure size 500x270 with 1 Axes>"
      ]
     },
     "metadata": {},
     "output_type": "display_data"
    }
   ],
   "source": [
    "x = [period.year for period in data_final.columns.values]\n",
    "plt.figure(figsize=(5, 2.7), layout='constrained')\n",
    "plt.plot(x, data_final.loc['DE', :].values, label='Germany')\n",
    "plt.plot(x, data_final.loc['FR', :].values, label='France')\n",
    "plt.plot(x, data_final.loc['EE', :].values, label='Estonia')\n",
    "plt.plot(x, data_final.loc['PL', :].values, label='Poland')\n",
    "plt.plot(x, data_final.loc['RO', :].values, label='Romania')\n",
    "plt.xlabel('Year')\n",
    "plt.ylabel('percent of individuals')\n",
    "plt.title(\"% of individuals using the internet for online banking\")\n",
    "plt.legend(loc=\"lower left\")\n",
    "plt.savefig(\"eurostat_sdmx_iubk.png\")\n",
    "plt.show()"
   ]
  },
  {
   "cell_type": "markdown",
   "metadata": {},
   "source": [
    "## Other issues"
   ]
  },
  {
   "cell_type": "markdown",
   "metadata": {},
   "source": [
    "Internationalisation: We can change the language used."
   ]
  },
  {
   "cell_type": "markdown",
   "metadata": {},
   "source": [
    "Currently, we use English."
   ]
  },
  {
   "cell_type": "code",
   "execution_count": 315,
   "metadata": {},
   "outputs": [
    {
     "data": {
      "text/plain": [
       "'en'"
      ]
     },
     "execution_count": 315,
     "metadata": {},
     "output_type": "execute_result"
    }
   ],
   "source": [
    "estat.default_locale"
   ]
  },
  {
   "cell_type": "markdown",
   "metadata": {},
   "source": [
    "We can switch to French."
   ]
  },
  {
   "cell_type": "code",
   "execution_count": 316,
   "metadata": {},
   "outputs": [],
   "source": [
    "estat.default_locale = \"fr\""
   ]
  },
  {
   "cell_type": "markdown",
   "metadata": {},
   "source": [
    "Then we can get all names for dataflows, dimensions, codelists, etc. in French like in the following example."
   ]
  },
  {
   "cell_type": "code",
   "execution_count": 317,
   "metadata": {},
   "outputs": [],
   "source": [
    "estat= sdmx.Request(\"ESTAT\")"
   ]
  },
  {
   "cell_type": "code",
   "execution_count": 318,
   "metadata": {},
   "outputs": [],
   "source": [
    "tin_msg = estat.dataflow(\"TIN00099\")"
   ]
  },
  {
   "cell_type": "code",
   "execution_count": 319,
   "metadata": {},
   "outputs": [],
   "source": [
    "geo_df = sdmx.to_pandas(tin_msg.codelist.GEO.items)"
   ]
  },
  {
   "cell_type": "code",
   "execution_count": 320,
   "metadata": {},
   "outputs": [
    {
     "data": {
      "text/plain": [
       "EUR                                                          Europe\n",
       "EU                Union européenne (UE6-1958, UE9-1973, UE10-198...\n",
       "EU_V              Union européenne (agrégat variable en fonction...\n",
       "EU27_2020_EFTA    Union européenne - 27 pays (à partir de 2020) ...\n",
       "EU27_2020_IS_K    Union européenne - 27 pays (à partir de 2020) ...\n",
       "                                        ...                        \n",
       "NAL                                                      Non alloué\n",
       "NAP                                                  Non applicable\n",
       "NRP                                                    Sans réponse\n",
       "NSP                                                    Non spécifié\n",
       "UNK                                                      Inconnu(s)\n",
       "Length: 4041, dtype: object"
      ]
     },
     "execution_count": 320,
     "metadata": {},
     "output_type": "execute_result"
    }
   ],
   "source": [
    "geo_df"
   ]
  },
  {
   "cell_type": "code",
   "execution_count": 258,
   "metadata": {},
   "outputs": [],
   "source": [
    "# to switch back to English\n",
    "estat.default_locale = \"en\""
   ]
  },
  {
   "cell_type": "code",
   "execution_count": null,
   "metadata": {},
   "outputs": [],
   "source": []
  }
 ],
 "metadata": {
  "kernelspec": {
   "display_name": "base",
   "language": "python",
   "name": "python3"
  },
  "language_info": {
   "codemirror_mode": {
    "name": "ipython",
    "version": 3
   },
   "file_extension": ".py",
   "mimetype": "text/x-python",
   "name": "python",
   "nbconvert_exporter": "python",
   "pygments_lexer": "ipython3",
   "version": "3.11.6"
  }
 },
 "nbformat": 4,
 "nbformat_minor": 2
}
